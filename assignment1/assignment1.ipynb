{
 "cells": [
  {
   "cell_type": "markdown",
   "metadata": {},
   "source": [
    "## Environment setup"
   ]
  },
  {
   "cell_type": "code",
   "execution_count": 28,
   "metadata": {},
   "outputs": [],
   "source": [
    "%matplotlib inline\n",
    "import ipywidgets as widgets"
   ]
  },
  {
   "cell_type": "code",
   "execution_count": 29,
   "metadata": {},
   "outputs": [],
   "source": [
    "# import library\n",
    "import numpy as np\n",
    "import random\n",
    "import math\n",
    "from matplotlib import pyplot as plt\n",
    "import os\n",
    "\n",
    "# parameters\n",
    "BATCH_SIZE = 64\n",
    "NUM_EPOCH = 20\n",
    "MODEL_PATH = './model'\n",
    "if not os.path.exists(MODEL_PATH):\n",
    "    os.makedirs(MODEL_PATH)\n",
    "    os.makedirs(os.path.join(MODEL_PATH, \"MLP\"))\n",
    "    os.makedirs(os.path.join(MODEL_PATH, \"CNN\"))\n",
    "    os.makedirs(os.path.join(MODEL_PATH, \"CAN\"))\n",
    "USE_TRAINED = True\n",
    "\n",
    "# dataset\n",
    "train_images = np.fromfile('./MNIST/train-images.idx3-ubyte', dtype=np.uint8)[0x10:].reshape((-1, 28, 28))\n",
    "train_labels = np.fromfile('./MNIST/train-labels.idx1-ubyte', dtype=np.uint8)[0x08:]\n",
    "test_images = np.fromfile('./MNIST/t10k-images.idx3-ubyte', dtype=np.uint8)[0x10:].reshape((-1, 28, 28))\n",
    "test_labels = np.fromfile('./MNIST/t10k-labels.idx1-ubyte', dtype=np.uint8)[0x08:]"
   ]
  },
  {
   "cell_type": "code",
   "execution_count": 30,
   "metadata": {},
   "outputs": [
    {
     "data": {
      "text/plain": [
       "Text(0.5, 1.0, '6')"
      ]
     },
     "execution_count": 30,
     "metadata": {},
     "output_type": "execute_result"
    },
    {
     "data": {
      "image/png": "[encoded data removed]",
      "text/plain": [
       "<Figure size 432x288 with 2 Axes>"
      ]
     },
     "metadata": {
      "needs_background": "light"
     },
     "output_type": "display_data"
    }
   ],
   "source": [
    "# test for printing the dataset\n",
    "idx1 = int(train_images.shape[0] * random.random())\n",
    "idx2 = int(test_images.shape[0] * random.random())\n",
    "fig, ax = plt.subplots(1,2)\n",
    "ax[0].imshow(train_images[idx1].reshape((28,28)), cmap='gray', vmin=0, vmax=255)\n",
    "ax[0].set_title(str(train_labels[idx1]), fontsize=12)\n",
    "ax[1].imshow(test_images[idx2].reshape((28,28)), cmap='gray', vmin=0, vmax=255)\n",
    "ax[1].set_title(str(test_labels[idx2]), fontsize=12)"
   ]
  },
  {
   "cell_type": "markdown",
   "metadata": {},
   "source": [
    "# K Nearest Neightbors (KNN)"
   ]
  },
  {
   "cell_type": "code",
   "execution_count": 31,
   "metadata": {},
   "outputs": [],
   "source": [
    "# import library\n",
    "from sklearn.neighbors import KNeighborsClassifier"
   ]
  },
  {
   "cell_type": "markdown",
   "metadata": {},
   "source": [
    "### Setup KNN"
   ]
  },
  {
   "cell_type": "code",
   "execution_count": 32,
   "metadata": {},
   "outputs": [],
   "source": [
    "def knn_init(k, train_images, train_labels):\n",
    "    #reshape images\n",
    "    train_images = train_images.reshape((-1, 28*28))\n",
    "    knn = KNeighborsClassifier(n_neighbors=k, p=1, n_jobs=-1) # p=1 in minkowski metric means using manhattan distance, which is SAD\n",
    "    knn.fit(train_images, train_labels)\n",
    "    return knn"
   ]
  },
  {
   "cell_type": "markdown",
   "metadata": {},
   "source": [
    "### Test K=1"
   ]
  },
  {
   "cell_type": "code",
   "execution_count": 33,
   "metadata": {},
   "outputs": [
    {
     "data": {
      "text/plain": [
       "Text(0.5, 1.0, 'predict: 7 actual: 7')"
      ]
     },
     "execution_count": 33,
     "metadata": {},
     "output_type": "execute_result"
    },
    {
     "data": {
      "image/png": "[encoded data removed]",
      "text/plain": [
       "<Figure size 432x288 with 1 Axes>"
      ]
     },
     "metadata": {
      "needs_background": "light"
     },
     "output_type": "display_data"
    }
   ],
   "source": [
    "knn = knn_init(1, train_images, train_labels)\n",
    "\n",
    "test_idx = int(test_images.shape[0] * random.random())\n",
    "predict_class = knn.predict(test_images[test_idx].reshape((-1,28*28)))\n",
    "fig, ax = plt.subplots()\n",
    "ax.imshow(test_images[test_idx].reshape((28,28)), cmap='gray', vmin=0, vmax=255)\n",
    "ax.set_title(\"predict: \"+str(predict_class[0])+\" actual: \" + str(test_labels[test_idx]), fontsize=12)"
   ]
  },
  {
   "cell_type": "markdown",
   "metadata": {},
   "source": [
    "### What will be the accuracy if we find the nearest neighbor?"
   ]
  },
  {
   "cell_type": "code",
   "execution_count": 34,
   "metadata": {},
   "outputs": [
    {
     "name": "stdout",
     "output_type": "stream",
     "text": [
      "0.9631\n"
     ]
    }
   ],
   "source": [
    "knn = knn_init(1, train_images, train_labels) #nearest neighbor means k=1\n",
    "accuracy = knn.score(test_images.reshape((-1, 28*28)), test_labels)\n",
    "print(accuracy)"
   ]
  },
  {
   "cell_type": "markdown",
   "metadata": {},
   "source": [
    "### Plot a curve of accuracy versus K from 1 to 10"
   ]
  },
  {
   "cell_type": "code",
   "execution_count": 35,
   "metadata": {},
   "outputs": [
    {
     "data": {
      "image/png": "[encoded data removed]",
      "text/plain": [
       "<Figure size 432x288 with 1 Axes>"
      ]
     },
     "metadata": {
      "needs_background": "light"
     },
     "output_type": "display_data"
    },
    {
     "name": "stdout",
     "output_type": "stream",
     "text": [
      "[0.9631, 0.954, 0.9633, 0.9606, 0.9618, 0.9611, 0.9615, 0.9594, 0.9597, 0.9588]\n"
     ]
    }
   ],
   "source": [
    "accuracy = []\n",
    "for i in range(10):\n",
    "    knn = knn_init(i+1, train_images, train_labels)\n",
    "    accuracy.append(knn.score(test_images.reshape((-1, 28*28)), test_labels))\n",
    "plt.plot(accuracy)\n",
    "plt.xticks(range(10), range(1,11))\n",
    "plt.show()\n",
    "print(accuracy)"
   ]
  },
  {
   "cell_type": "markdown",
   "metadata": {},
   "source": [
    "# Multilayer Perceptron (MLP)"
   ]
  },
  {
   "cell_type": "code",
   "execution_count": 4,
   "metadata": {},
   "outputs": [],
   "source": [
    "# import library\n",
    "import torch\n",
    "import torch.nn as nn\n",
    "import torch.nn.functional as F\n",
    "from torch.utils.data import Dataset, DataLoader\n",
    "\n",
    "# parameters\n",
    "loss_func = nn.CrossEntropyLoss()\n",
    "device = torch.device(\"cuda\" if torch.cuda.is_available() else \"cpu\")"
   ]
  },
  {
   "cell_type": "markdown",
   "metadata": {},
   "source": [
    "### Define MLP Network"
   ]
  },
  {
   "cell_type": "code",
   "execution_count": 5,
   "metadata": {},
   "outputs": [],
   "source": [
    "class MLP(nn.Module):\n",
    "    def __init__(self, num_neurons):\n",
    "        super(MLP, self).__init__()\n",
    "\n",
    "        self.fc1 = nn.Linear(28*28, num_neurons)\n",
    "        self.fc2 = nn.Linear(num_neurons, num_neurons)\n",
    "        self.fc3 = nn.Linear(num_neurons, 10)\n",
    "\n",
    "    def forward(self, x):\n",
    "        x = self.fc1(x)\n",
    "        x = F.relu(x)\n",
    "        x = self.fc2(x)\n",
    "        x = F.relu(x)\n",
    "        x = self.fc3(x)\n",
    "        return x"
   ]
  },
  {
   "cell_type": "markdown",
   "metadata": {},
   "source": [
    "### Define MNIST MLP Dataset"
   ]
  },
  {
   "cell_type": "code",
   "execution_count": 6,
   "metadata": {},
   "outputs": [],
   "source": [
    "class MNIST_MLP_Dataset(Dataset):\n",
    "    def __init__(self, images, labels) -> None:\n",
    "        super().__init__()\n",
    "        self.images = torch.from_numpy((images.reshape((-1, 28*28))/255).astype(np.float32))\n",
    "        self.labels = torch.from_numpy(labels).long()\n",
    "        self.len = images.shape[0]\n",
    "\n",
    "    def __getitem__(self, index):\n",
    "        return self.images[index], self.labels[index]\n",
    "\n",
    "    def __len__(self):\n",
    "        return self.len\n",
    "\n",
    "training_set = MNIST_MLP_Dataset(train_images, train_labels)\n",
    "validation_set = MNIST_MLP_Dataset(test_images, test_labels)"
   ]
  },
  {
   "cell_type": "markdown",
   "metadata": {},
   "source": [
    "### Training function"
   ]
  },
  {
   "cell_type": "code",
   "execution_count": 7,
   "metadata": {},
   "outputs": [],
   "source": [
    "def mlp_train(mlp, training_set, validation_set):\n",
    "    training_loader = DataLoader(dataset=training_set, batch_size=BATCH_SIZE, shuffle=True, pin_memory=True)\n",
    "    validation_loader = DataLoader(dataset=validation_set, batch_size=BATCH_SIZE, shuffle=False, pin_memory=True)\n",
    "    optimizer = torch.optim.SGD(mlp.parameters(), lr=0.001, momentum=0.9)\n",
    "\n",
    "    training_progress = widgets.IntProgress(\n",
    "        value=0,\n",
    "        min=0,\n",
    "        max=NUM_EPOCH,\n",
    "        step=1,\n",
    "        description='Progress:',\n",
    "        bar_style='success',\n",
    "        orientation='horizontal'\n",
    "    )\n",
    "    train_loss_text = widgets.Label(value=\"average train loss: \")\n",
    "    val_loss_text = widgets.Label(value=\"average validation loss: \")\n",
    "    vbox = widgets.VBox([training_progress, train_loss_text, val_loss_text])\n",
    "    display(vbox)\n",
    "\n",
    "    for epoch in range(NUM_EPOCH):\n",
    "        # print(\"EPOCH \" + str(epoch) + \":\")\n",
    "        mlp.train(True)\n",
    "        avg_loss = 0\n",
    "        iter_cnt = 0\n",
    "        for i, data in enumerate(training_loader):\n",
    "            images, labels = data\n",
    "            images = images.to(device = device)\n",
    "            labels = labels.to(device = device)\n",
    "            optimizer.zero_grad()\n",
    "            outputs = mlp(images)\n",
    "            loss = loss_func(outputs, labels)\n",
    "            loss.backward()\n",
    "            optimizer.step()\n",
    "            avg_loss += loss.item()\n",
    "            iter_cnt += 1\n",
    "        avg_loss /= iter_cnt\n",
    "        # print(\"average train loss: \" + str(avg_loss))\n",
    "        train_loss_text.value = 'average train loss: ' + str(avg_loss)\n",
    "        mlp.train(False)\n",
    "\n",
    "        validation_loss = 0\n",
    "        for i, data in enumerate(validation_loader):\n",
    "            images, labels = data\n",
    "            images = images.to(device = device)\n",
    "            labels = labels.to(device = device)\n",
    "            outputs = mlp(images)\n",
    "            loss = loss_func(outputs, labels)\n",
    "            validation_loss += loss.item()\n",
    "        validation_loss /= (i+1)\n",
    "        # print(\"average validation loss: \" + str(validation_loss))\n",
    "        val_loss_text.value = 'average validation loss: ' + str(validation_loss)\n",
    "        training_progress.value = epoch+1"
   ]
  },
  {
   "cell_type": "code",
   "execution_count": 8,
   "metadata": {},
   "outputs": [],
   "source": [
    "mlp = MLP(256)\n",
    "mlp = mlp.to(device = device)\n",
    "\n",
    "if USE_TRAINED and os.path.exists(os.path.join(MODEL_PATH, 'MLP', '256neurons.pt')):\n",
    "    mlp.load_state_dict(torch.load(os.path.join(MODEL_PATH, 'MLP', '256neurons.pt')))\n",
    "else:\n",
    "    mlp_train(mlp, training_set, validation_set)"
   ]
  },
  {
   "cell_type": "code",
   "execution_count": 12,
   "metadata": {},
   "outputs": [
    {
     "data": {
      "text/plain": [
       "Text(0.5, 1.0, 'predict: 0 actual: 0')"
      ]
     },
     "execution_count": 12,
     "metadata": {},
     "output_type": "execute_result"
    },
    {
     "data": {
      "image/png": "[encoded data removed]",
      "text/plain": [
       "<Figure size 432x288 with 1 Axes>"
      ]
     },
     "metadata": {
      "needs_background": "light"
     },
     "output_type": "display_data"
    }
   ],
   "source": [
    "test_idx = int(test_images.shape[0] * random.random())\n",
    "images, labels = validation_set[test_idx]\n",
    "images = images.to(device = device)\n",
    "labels = labels.to(device = device)\n",
    "outputs = mlp(images)\n",
    "fig, ax = plt.subplots()\n",
    "ax.imshow(images.cpu().numpy().reshape((28,28))*255, cmap='gray', vmin=0, vmax=255)\n",
    "ax.set_title(\"predict: \"+str(outputs.argmax().item())+\" actual: \" + str(labels.item()), fontsize=12)"
   ]
  },
  {
   "cell_type": "markdown",
   "metadata": {},
   "source": [
    "### Plot a curve of accuracy versus the number of neurons"
   ]
  },
  {
   "cell_type": "code",
   "execution_count": 13,
   "metadata": {},
   "outputs": [
    {
     "data": {
      "image/png": "[encoded data removed]",
      "text/plain": [
       "<Figure size 432x288 with 1 Axes>"
      ]
     },
     "metadata": {
      "needs_background": "light"
     },
     "output_type": "display_data"
    },
    {
     "name": "stdout",
     "output_type": "stream",
     "text": [
      "[0.7855, 0.9173, 0.9389, 0.9496, 0.9526, 0.9572, 0.9583]\n"
     ]
    }
   ],
   "source": [
    "accuracy = []\n",
    "num_neurons = [4, 8, 16, 32, 64, 128, 256]\n",
    "validation_loader = DataLoader(dataset=validation_set, batch_size=BATCH_SIZE, shuffle=False, pin_memory=True)\n",
    "for i in num_neurons:\n",
    "    mlp = MLP(i)\n",
    "    mlp = mlp.to(device = device)\n",
    "    if USE_TRAINED and os.path.exists(os.path.join(MODEL_PATH, 'MLP', \"{}neurons.pt\".format(i))):\n",
    "        mlp.load_state_dict(torch.load(os.path.join(MODEL_PATH, 'MLP', \"{}neurons.pt\".format(i))))\n",
    "    else:\n",
    "        mlp_train(mlp, training_set, validation_set)\n",
    "    correct = 0\n",
    "    img_cnt = 0\n",
    "    with torch.no_grad():\n",
    "        for j, data in enumerate(validation_loader):\n",
    "            images, labels = data\n",
    "            images = images.to(device = device)\n",
    "            outputs = mlp(images)\n",
    "            outputs = outputs.cpu().numpy().argmax(axis=1)\n",
    "            labels = labels.cpu().numpy()\n",
    "            correct += np.sum(outputs==labels)\n",
    "            img_cnt += labels.shape[0]\n",
    "    accuracy.append(correct / img_cnt)\n",
    "    # save model\n",
    "    torch.save(mlp.state_dict(), os.path.join(MODEL_PATH, 'MLP', \"{}neurons.pt\".format(i)))\n",
    "    del mlp\n",
    "plt.plot(accuracy)\n",
    "plt.xticks(range(len(num_neurons)), num_neurons)\n",
    "plt.show()\n",
    "print(accuracy)"
   ]
  },
  {
   "cell_type": "markdown",
   "metadata": {},
   "source": [
    "# Convolutional Neural Networks (CNN)"
   ]
  },
  {
   "cell_type": "code",
   "execution_count": 14,
   "metadata": {},
   "outputs": [],
   "source": [
    "# import library\n",
    "import torch\n",
    "import torch.nn as nn\n",
    "import torch.nn.functional as F\n",
    "from torch.utils.data import Dataset, DataLoader\n",
    "\n",
    "# parameters\n",
    "loss_func = nn.CrossEntropyLoss()\n",
    "device = torch.device(\"cuda\" if torch.cuda.is_available() else \"cpu\")"
   ]
  },
  {
   "cell_type": "markdown",
   "metadata": {},
   "source": [
    "### Define CNN Network (LeNet-5)"
   ]
  },
  {
   "cell_type": "code",
   "execution_count": 15,
   "metadata": {},
   "outputs": [],
   "source": [
    "class LeNet5(nn.Module):\n",
    "    def __init__(self):\n",
    "        super(LeNet5, self).__init__()\n",
    "\n",
    "        self.conv1 = nn.Conv2d(in_channels=1, out_channels=6, kernel_size=5)    # output size: {(W-K+2P)/S)}+1 = {(28-5+0)/1)}+1 = 24\n",
    "        self.avg_pool1 = nn.AvgPool2d(kernel_size=2, stride=2)                  # output size: 24/2 = 12\n",
    "        self.conv2 = nn.Conv2d(in_channels=6, out_channels=16, kernel_size=5)   # output size: {(W-K+2P)/S)}+1 = {(12-5+0)/1)}+1 = 8\n",
    "        self.avg_pool2 = nn.AvgPool2d(kernel_size=2, stride=2)                  # output size: 8/2 = 4\n",
    "        self.flatten = nn.Flatten()\n",
    "        self.fc1 = nn.Linear(4*4*16, 120)\n",
    "        self.fc2 = nn.Linear(120, 84)\n",
    "        self.fc3 = nn.Linear(84, 10)\n",
    "\n",
    "    def forward(self, x):\n",
    "        x = self.conv1(x)\n",
    "        x = torch.tanh(x)\n",
    "        x = self.avg_pool1(x)\n",
    "        x = self.conv2(x)\n",
    "        x = torch.tanh(x)\n",
    "        x = self.avg_pool2(x)\n",
    "        x = self.flatten(x)\n",
    "        x = self.fc1(x)\n",
    "        x = torch.tanh(x)\n",
    "        x = self.fc2(x)\n",
    "        x = torch.tanh(x)\n",
    "        x = self.fc3(x)\n",
    "        x = F.softmax(x, dim=1)\n",
    "        return x"
   ]
  },
  {
   "cell_type": "markdown",
   "metadata": {},
   "source": [
    "### Define MNIST CNN Dataset"
   ]
  },
  {
   "cell_type": "code",
   "execution_count": 16,
   "metadata": {},
   "outputs": [],
   "source": [
    "class MNIST_CNN_Dataset(Dataset):\n",
    "    def __init__(self, images, labels) -> None:\n",
    "        super().__init__()\n",
    "        self.images = torch.from_numpy((images.reshape((-1, 1, 28, 28))/255).astype(np.float32))\n",
    "        self.labels = torch.from_numpy(labels).long()\n",
    "        self.len = images.shape[0]\n",
    "\n",
    "    def __getitem__(self, index):\n",
    "        return self.images[index], self.labels[index]\n",
    "\n",
    "    def __len__(self):\n",
    "        return self.len\n",
    "\n",
    "training_set = MNIST_CNN_Dataset(train_images, train_labels)\n",
    "validation_set = MNIST_CNN_Dataset(test_images, test_labels)"
   ]
  },
  {
   "cell_type": "markdown",
   "metadata": {},
   "source": [
    "### Training function"
   ]
  },
  {
   "cell_type": "code",
   "execution_count": 17,
   "metadata": {},
   "outputs": [],
   "source": [
    "def cnn_train(cnn, training_set, validation_set):\n",
    "    training_loader = DataLoader(dataset=training_set, batch_size=BATCH_SIZE, shuffle=True, pin_memory=True)\n",
    "    validation_loader = DataLoader(dataset=validation_set, batch_size=BATCH_SIZE, shuffle=False, pin_memory=True)\n",
    "    optimizer = torch.optim.Adam(cnn.parameters())\n",
    "\n",
    "    training_progress = widgets.IntProgress(\n",
    "        value=0,\n",
    "        min=0,\n",
    "        max=NUM_EPOCH,\n",
    "        step=1,\n",
    "        description='Progress:',\n",
    "        bar_style='success',\n",
    "        orientation='horizontal'\n",
    "    )\n",
    "    train_loss_text = widgets.Label(value=\"average train loss: \")\n",
    "    val_loss_text = widgets.Label(value=\"average validation loss: \")\n",
    "    vbox = widgets.VBox([training_progress, train_loss_text, val_loss_text])\n",
    "    display(vbox)\n",
    "\n",
    "    for epoch in range(NUM_EPOCH):\n",
    "        # print(\"EPOCH \" + str(epoch) + \":\")\n",
    "        cnn.train(True)\n",
    "        avg_loss = 0\n",
    "        iter_cnt = 0\n",
    "        for i, data in enumerate(training_loader):\n",
    "            images, labels = data\n",
    "            images = images.to(device = device)\n",
    "            labels = labels.to(device = device)\n",
    "            optimizer.zero_grad()\n",
    "            outputs = cnn(images)\n",
    "            loss = loss_func(outputs, labels)\n",
    "            loss.backward()\n",
    "            optimizer.step()\n",
    "            avg_loss += loss.item()\n",
    "            iter_cnt += 1\n",
    "        avg_loss /= iter_cnt\n",
    "        # print(\"average train loss: \" + str(avg_loss))\n",
    "        train_loss_text.value = 'average train loss: ' + str(avg_loss)\n",
    "        cnn.train(False)\n",
    "\n",
    "        validation_loss = 0\n",
    "        for i, data in enumerate(validation_loader):\n",
    "            images, labels = data\n",
    "            images = images.to(device = device)\n",
    "            labels = labels.to(device = device)\n",
    "            outputs = cnn(images)\n",
    "            loss = loss_func(outputs, labels)\n",
    "            validation_loss += loss.item()\n",
    "        validation_loss /= (i+1)\n",
    "        # print(\"average validation loss: \" + str(validation_loss))\n",
    "        val_loss_text.value = 'average validation loss: ' + str(validation_loss)\n",
    "        training_progress.value = epoch+1"
   ]
  },
  {
   "cell_type": "code",
   "execution_count": 18,
   "metadata": {},
   "outputs": [],
   "source": [
    "cnn = LeNet5()\n",
    "cnn = cnn.to(device = device)\n",
    "\n",
    "if USE_TRAINED and os.path.exists(os.path.join(MODEL_PATH, 'CNN', 'cnn.pt')):\n",
    "    cnn.load_state_dict(torch.load(os.path.join(MODEL_PATH, 'CNN', 'cnn.pt')))\n",
    "else:\n",
    "    cnn_train(cnn, training_set, validation_set)\n",
    "    # save model\n",
    "    torch.save(cnn.state_dict(), os.path.join(MODEL_PATH, 'CNN', \"cnn.pt\"))"
   ]
  },
  {
   "cell_type": "code",
   "execution_count": 19,
   "metadata": {},
   "outputs": [
    {
     "data": {
      "text/plain": [
       "Text(0.5, 1.0, 'predict: 4 actual: 4')"
      ]
     },
     "execution_count": 19,
     "metadata": {},
     "output_type": "execute_result"
    },
    {
     "data": {
      "image/png": "[encoded data removed]",
      "text/plain": [
       "<Figure size 432x288 with 1 Axes>"
      ]
     },
     "metadata": {
      "needs_background": "light"
     },
     "output_type": "display_data"
    }
   ],
   "source": [
    "test_idx = int(test_images.shape[0] * random.random())\n",
    "images, labels = validation_set[test_idx]\n",
    "images = images.reshape(-1,1,28,28).to(device = device)\n",
    "labels = labels.to(device = device)\n",
    "outputs = cnn(images)\n",
    "fig, ax = plt.subplots()\n",
    "ax.imshow(images.cpu().numpy().reshape((28,28))*255, cmap='gray', vmin=0, vmax=255)\n",
    "ax.set_title(\"predict: \"+str(outputs.argmax().item())+\" actual: \" + str(labels.item()), fontsize=12)"
   ]
  },
  {
   "cell_type": "markdown",
   "metadata": {},
   "source": [
    "### Accuracy"
   ]
  },
  {
   "cell_type": "code",
   "execution_count": 20,
   "metadata": {},
   "outputs": [
    {
     "name": "stdout",
     "output_type": "stream",
     "text": [
      "0.9881\n"
     ]
    }
   ],
   "source": [
    "accuracy = 0\n",
    "validation_loader = DataLoader(dataset=validation_set, batch_size=BATCH_SIZE, shuffle=False, pin_memory=True)\n",
    "with torch.no_grad():\n",
    "    correct = 0\n",
    "    img_cnt = 0\n",
    "    for i, data in enumerate(validation_loader):\n",
    "        images, labels = data\n",
    "        images = images.to(device = device)\n",
    "        outputs = cnn(images)\n",
    "        outputs = outputs.cpu().numpy().argmax(axis=1)\n",
    "        labels = labels.cpu().numpy()\n",
    "        correct += np.sum(outputs==labels)\n",
    "        img_cnt += labels.shape[0]\n",
    "    accuracy = correct / img_cnt\n",
    "print(accuracy)"
   ]
  },
  {
   "cell_type": "markdown",
   "metadata": {},
   "source": [
    "# Context Aggregation Networks (CAN)"
   ]
  },
  {
   "cell_type": "code",
   "execution_count": 21,
   "metadata": {},
   "outputs": [],
   "source": [
    "# import library\n",
    "import torch\n",
    "import torch.nn as nn\n",
    "import torch.nn.functional as F\n",
    "from torch.utils.data import Dataset, DataLoader\n",
    "\n",
    "# parameters\n",
    "loss_func = nn.CrossEntropyLoss()\n",
    "device = torch.device(\"cuda\" if torch.cuda.is_available() else \"cpu\")"
   ]
  },
  {
   "cell_type": "markdown",
   "metadata": {},
   "source": [
    "### Define CAN Network"
   ]
  },
  {
   "cell_type": "code",
   "execution_count": 22,
   "metadata": {},
   "outputs": [],
   "source": [
    "class CAN(nn.Module):\n",
    "    def __init__(self, feature_channels):\n",
    "        super(CAN, self).__init__()\n",
    "\n",
    "        self.conv1 = nn.Conv2d(in_channels=1,\n",
    "                               out_channels=feature_channels, \n",
    "                               kernel_size=3, \n",
    "                               dilation=1,\n",
    "                               padding=1)\n",
    "        self.conv2 = nn.Conv2d(in_channels=feature_channels, \n",
    "                               out_channels=feature_channels, \n",
    "                               kernel_size=3,\n",
    "                               dilation=2,\n",
    "                               padding=2)\n",
    "        self.conv3 = nn.Conv2d(in_channels=feature_channels, \n",
    "                               out_channels=feature_channels, \n",
    "                               kernel_size=3,\n",
    "                               dilation=4,\n",
    "                               padding=4)\n",
    "        self.conv4 = nn.Conv2d(in_channels=feature_channels, \n",
    "                               out_channels=feature_channels, \n",
    "                               kernel_size=3,\n",
    "                               dilation=8,\n",
    "                               padding=8)\n",
    "        self.conv5 = nn.Conv2d(in_channels=feature_channels, \n",
    "                               out_channels=10, \n",
    "                               kernel_size=3,\n",
    "                               dilation=1,\n",
    "                               padding=1)\n",
    "        self.avg_pool1 = nn.AvgPool2d(kernel_size=28)\n",
    "\n",
    "    def forward(self, x):\n",
    "        x = self.conv1(x)\n",
    "        x = F.leaky_relu(x)\n",
    "        x = self.conv2(x)\n",
    "        x = F.leaky_relu(x)\n",
    "        x = self.conv3(x)\n",
    "        x = F.leaky_relu(x)\n",
    "        x = self.conv4(x)\n",
    "        x = F.leaky_relu(x)\n",
    "        x = self.conv5(x)\n",
    "        x = F.leaky_relu(x)\n",
    "        x = self.avg_pool1(x)\n",
    "        x = torch.squeeze(x)\n",
    "        return x"
   ]
  },
  {
   "cell_type": "markdown",
   "metadata": {},
   "source": [
    "### Define MNIST CAN Dataset (same as CNN)"
   ]
  },
  {
   "cell_type": "code",
   "execution_count": 23,
   "metadata": {},
   "outputs": [],
   "source": [
    "class MNIST_CNN_Dataset(Dataset):\n",
    "    def __init__(self, images, labels) -> None:\n",
    "        super().__init__()\n",
    "        self.images = torch.from_numpy((images.reshape((-1, 1, 28, 28))/255).astype(np.float32))\n",
    "        self.labels = torch.from_numpy(labels).long()\n",
    "        self.len = images.shape[0]\n",
    "\n",
    "    def __getitem__(self, index):\n",
    "        return self.images[index], self.labels[index]\n",
    "\n",
    "    def __len__(self):\n",
    "        return self.len\n",
    "\n",
    "training_set = MNIST_CNN_Dataset(train_images, train_labels)\n",
    "validation_set = MNIST_CNN_Dataset(test_images, test_labels)"
   ]
  },
  {
   "cell_type": "markdown",
   "metadata": {},
   "source": [
    "### Training function"
   ]
  },
  {
   "cell_type": "code",
   "execution_count": 24,
   "metadata": {},
   "outputs": [],
   "source": [
    "def can_train(can, training_set, validation_set):\n",
    "    training_loader = DataLoader(dataset=training_set, batch_size=BATCH_SIZE, shuffle=True, pin_memory=True)\n",
    "    validation_loader = DataLoader(dataset=validation_set, batch_size=BATCH_SIZE, shuffle=False, pin_memory=True)\n",
    "    optimizer = torch.optim.Adam(can.parameters())\n",
    "\n",
    "    training_progress = widgets.IntProgress(\n",
    "        value=0,\n",
    "        min=0,\n",
    "        max=NUM_EPOCH,\n",
    "        step=1,\n",
    "        description='Progress:',\n",
    "        bar_style='success',\n",
    "        orientation='horizontal'\n",
    "    )\n",
    "    train_loss_text = widgets.Label(value=\"average train loss: \")\n",
    "    val_loss_text = widgets.Label(value=\"average validation loss: \")\n",
    "    vbox = widgets.VBox([training_progress, train_loss_text, val_loss_text])\n",
    "    display(vbox)\n",
    "\n",
    "    for epoch in range(NUM_EPOCH):\n",
    "        # print(\"EPOCH \" + str(epoch) + \":\")\n",
    "        can.train(True)\n",
    "        avg_loss = 0\n",
    "        iter_cnt = 0\n",
    "        for i, data in enumerate(training_loader):\n",
    "            images, labels = data\n",
    "            images = images.to(device = device)\n",
    "            labels = labels.to(device = device)\n",
    "            optimizer.zero_grad()\n",
    "            outputs = can(images)\n",
    "            loss = loss_func(outputs, labels)\n",
    "            loss.backward()\n",
    "            optimizer.step()\n",
    "            avg_loss += loss.item()\n",
    "            iter_cnt += 1\n",
    "        avg_loss /= iter_cnt\n",
    "        # print(\"average train loss: \" + str(avg_loss))\n",
    "        train_loss_text.value = 'average train loss: ' + str(avg_loss)\n",
    "        can.train(False)\n",
    "\n",
    "        validation_loss = 0\n",
    "        for i, data in enumerate(validation_loader):\n",
    "            images, labels = data\n",
    "            images = images.to(device = device)\n",
    "            labels = labels.to(device = device)\n",
    "            outputs = can(images)\n",
    "            loss = loss_func(outputs, labels)\n",
    "            validation_loss += loss.item()\n",
    "        validation_loss /= (i+1)\n",
    "        # print(\"average validation loss: \" + str(validation_loss))\n",
    "        val_loss_text.value = 'average validation loss: ' + str(validation_loss)\n",
    "        training_progress.value = epoch+1"
   ]
  },
  {
   "cell_type": "code",
   "execution_count": 36,
   "metadata": {},
   "outputs": [],
   "source": [
    "can = CAN(32)\n",
    "can = can.to(device = device)\n",
    "\n",
    "if USE_TRAINED and os.path.exists(os.path.join(MODEL_PATH, 'CAN', '32features.pt')):\n",
    "    can.load_state_dict(torch.load(os.path.join(MODEL_PATH, 'CAN', '32features.pt')))\n",
    "else:\n",
    "    can_train(can, training_set, validation_set)"
   ]
  },
  {
   "cell_type": "code",
   "execution_count": 37,
   "metadata": {},
   "outputs": [
    {
     "data": {
      "text/plain": [
       "Text(0.5, 1.0, 'predict: 1 actual: 1')"
      ]
     },
     "execution_count": 37,
     "metadata": {},
     "output_type": "execute_result"
    },
    {
     "data": {
      "image/png": "[encoded data removed]",
      "text/plain": [
       "<Figure size 432x288 with 1 Axes>"
      ]
     },
     "metadata": {
      "needs_background": "light"
     },
     "output_type": "display_data"
    }
   ],
   "source": [
    "test_idx = int(test_images.shape[0] * random.random())\n",
    "images, labels = validation_set[test_idx]\n",
    "images = images.reshape(-1,1,28,28).to(device = device)\n",
    "labels = labels.to(device = device)\n",
    "outputs = can(images)\n",
    "fig, ax = plt.subplots()\n",
    "ax.imshow(images.cpu().numpy().reshape((28,28))*255, cmap='gray', vmin=0, vmax=255)\n",
    "ax.set_title(\"predict: \"+str(outputs.argmax().item())+\" actual: \" + str(labels.item()), fontsize=12)"
   ]
  },
  {
   "cell_type": "markdown",
   "metadata": {},
   "source": [
    "### Accuracy"
   ]
  },
  {
   "cell_type": "code",
   "execution_count": 38,
   "metadata": {},
   "outputs": [
    {
     "data": {
      "image/png": "[encoded data removed]",
      "text/plain": [
       "<Figure size 432x288 with 1 Axes>"
      ]
     },
     "metadata": {
      "needs_background": "light"
     },
     "output_type": "display_data"
    },
    {
     "name": "stdout",
     "output_type": "stream",
     "text": [
      "[0.9161, 0.9692, 0.9891, 0.9928, 0.9951, 0.9963]\n"
     ]
    }
   ],
   "source": [
    "accuracy = []\n",
    "num_feature = [4, 8, 16, 32, 64, 128]\n",
    "validation_loader = DataLoader(dataset=validation_set, batch_size=BATCH_SIZE, shuffle=False, pin_memory=True)\n",
    "for i in num_feature:\n",
    "    can = CAN(i)\n",
    "    can = can.to(device = device)\n",
    "    if USE_TRAINED and os.path.exists(os.path.join(MODEL_PATH, 'CAN', \"{}features.pt\".format(i))):\n",
    "        can.load_state_dict(torch.load(os.path.join(MODEL_PATH, 'CAN', \"{}features.pt\".format(i))))\n",
    "    else:\n",
    "        can_train(can, training_set, validation_set)\n",
    "    correct = 0\n",
    "    img_cnt = 0\n",
    "    with torch.no_grad():\n",
    "        for j, data in enumerate(validation_loader):\n",
    "            images, labels = data\n",
    "            images = images.to(device = device)\n",
    "            outputs = can(images)\n",
    "            outputs = outputs.cpu().numpy().argmax(axis=1)\n",
    "            labels = labels.cpu().numpy()\n",
    "            correct += np.sum(outputs==labels)\n",
    "            img_cnt += labels.shape[0]\n",
    "    accuracy.append(correct / img_cnt)\n",
    "    # save model\n",
    "    torch.save(can.state_dict(), os.path.join(MODEL_PATH, 'CAN', \"{}features.pt\".format(i)))\n",
    "    del can\n",
    "plt.plot(accuracy)\n",
    "plt.xticks(range(len(num_feature)), num_feature)\n",
    "plt.show()\n",
    "print(accuracy)"
   ]
  }
 ],
 "metadata": {
  "interpreter": {
   "hash": "7c41c12d6659a42cbb4c25695ec3b8463fcb9cf97c247446856fb37e2c1fbee9"
  },
  "kernelspec": {
   "display_name": "Python 3.9.7 64-bit ('pgrl': conda)",
   "language": "python",
   "name": "python3"
  },
  "language_info": {
   "codemirror_mode": {
    "name": "ipython",
    "version": 3
   },
   "file_extension": ".py",
   "mimetype": "text/x-python",
   "name": "python",
   "nbconvert_exporter": "python",
   "pygments_lexer": "ipython3",
   "version": "3.9.7"
  },
  "orig_nbformat": 4
 },
 "nbformat": 4,
 "nbformat_minor": 2
}
